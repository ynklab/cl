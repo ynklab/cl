{
  "nbformat": 4,
  "nbformat_minor": 0,
  "metadata": {
    "colab": {
      "provenance": [],
      "include_colab_link": true
    },
    "kernelspec": {
      "name": "python3",
      "display_name": "Python 3"
    },
    "language_info": {
      "name": "python"
    }
  },
  "cells": [
    {
      "cell_type": "markdown",
      "metadata": {
        "id": "view-in-github",
        "colab_type": "text"
      },
      "source": [
        "<a href=\"https://colab.research.google.com/github/ynklab/cl/blob/main/semantics.ipynb\" target=\"_parent\"><img src=\"https://colab.research.google.com/assets/colab-badge.svg\" alt=\"Open In Colab\"/></a>"
      ]
    },
    {
      "cell_type": "markdown",
      "source": [
        "意味表示の導出、モデル検査、定理証明\n",
        "\n",
        "NLTK: https://www.nltk.org/ は、Pythonプログラミング言語で書かれた英語の自然言語処理のためのライブラリであり、NLTKを使うことで意味表示の導出、モデル検査や定理証明を簡単に記述できる。このコードではNLTKを用いた意味表示の導出、モデル検査、定理証明について簡潔に紹介する。ぜひNLTKの公式ドキュメントhttps://www.nltk.org/howto/semantics.html も参考にしてほしい。"
      ],
      "metadata": {
        "id": "m0W6C05yIhs4"
      }
    },
    {
      "cell_type": "markdown",
      "source": [
        "まずは必要なモジュールをimportしよう。\n"
      ],
      "metadata": {
        "id": "g_jJhhdiHWe5"
      }
    },
    {
      "cell_type": "code",
      "execution_count": 1,
      "metadata": {
        "id": "GsHMWoghD9MU"
      },
      "outputs": [],
      "source": [
        "import nltk\n",
        "from nltk import *\n",
        "from nltk.sem import logic\n",
        "from nltk.sem import Valuation, Model\n",
        "from nltk.sem.logic import LogicParser\n",
        "from nltk.sem.util import parse_sents"
      ]
    },
    {
      "cell_type": "markdown",
      "source": [
        "NLTKではfeature based grammarを指定して構文解析・意味解析を行うことができる。ここではhttps://github.com/nltk/nltk_teach/blob/master/examples/grammars/sample_grammars/sem2.fcfg　をfeature based grammarに指定したときの基本的な文の意味合成の実装例を紹介する。Parse:以下が意味合成（SEM=以下が各構成素の意味表示）、Semantics:以下が文の意味表示を示す。\n"
      ],
      "metadata": {
        "id": "FaOwbxoGHn8_"
      }
    },
    {
      "cell_type": "code",
      "source": [
        "# feature based grammarの読み込み\n",
        "nltk.download('sample_grammars')\n",
        "gramfile = 'grammars/sample_grammars/sem2.fcfg'\n",
        "\n",
        "# 構文解析・意味解析\n",
        "inputs = ['John sees Mary', 'a dog walks']\n",
        "parses = parse_sents(inputs, gramfile)\n",
        "for sent, trees in zip(inputs, parses):\n",
        "    print(\"Sentence: %s\" % sent)\n",
        "    for tree in trees:\n",
        "        print(\"Parse:\\n %s\" %tree)\n",
        "        print(\"Semantics: %s\" %  root_semrep(tree))"
      ],
      "metadata": {
        "colab": {
          "base_uri": "https://localhost:8080/"
        },
        "id": "3xzgODUoF4cm",
        "outputId": "4139c387-186a-4411-c6f1-be789378a051"
      },
      "execution_count": 36,
      "outputs": [
        {
          "output_type": "stream",
          "name": "stdout",
          "text": [
            "Sentence: John sees Mary\n",
            "Parse:\n",
            " (S[SEM=<see(john,mary)>]\n",
            "  (NP[-LOC, NUM='sg', SEM=<\\P.P(john)>]\n",
            "    (PropN[-LOC, NUM='sg', SEM=<\\P.P(john)>] John))\n",
            "  (VP[NUM='sg', SEM=<\\y.see(y,mary)>]\n",
            "    (TV[NUM='sg', SEM=<\\X y.X(\\x.see(y,x))>, TNS='pres'] sees)\n",
            "    (NP[-LOC, NUM='sg', SEM=<\\P.P(mary)>]\n",
            "      (PropN[-LOC, NUM='sg', SEM=<\\P.P(mary)>] Mary))))\n",
            "Semantics: see(john,mary)\n",
            "Sentence: a dog walks\n",
            "Parse:\n",
            " (S[SEM=<exists x.(dog(x) & walk(x))>]\n",
            "  (NP[NUM='sg', SEM=<\\Q.exists x.(dog(x) & Q(x))>]\n",
            "    (Det[NUM='sg', SEM=<\\P Q.exists x.(P(x) & Q(x))>] a)\n",
            "    (Nom[NUM='sg', SEM=<\\x.dog(x)>]\n",
            "      (N[NUM='sg', SEM=<\\x.dog(x)>] dog)))\n",
            "  (VP[NUM='sg', SEM=<\\x.walk(x)>]\n",
            "    (IV[NUM='sg', SEM=<\\x.walk(x)>, TNS='pres'] walks)))\n",
            "Semantics: exists x.(dog(x) & walk(x))\n"
          ]
        },
        {
          "output_type": "stream",
          "name": "stderr",
          "text": [
            "[nltk_data] Downloading package sample_grammars to /root/nltk_data...\n",
            "[nltk_data]   Package sample_grammars is already up-to-date!\n"
          ]
        }
      ]
    },
    {
      "cell_type": "markdown",
      "source": [
        "次に、7.2節の例に出てきた2つのモデルS_1, S_2を読み込み、Hanako is young and smartの意味表示smart(hanako)&young(hanako)の真理値をモデル検査で確かめよう。"
      ],
      "metadata": {
        "id": "CAoE-SacJrsa"
      }
    },
    {
      "cell_type": "code",
      "source": [
        "# モデルの読み込み\n",
        "S_1 = \"\"\"\n",
        "hanako => a\n",
        "yamada => b\n",
        "taro => c\n",
        "smart => {a, b}\n",
        "young => {a, c}\n",
        "\"\"\"\n",
        "\n",
        "S_2 = \"\"\"\n",
        "hanako => a\n",
        "yamada => b\n",
        "taro => c\n",
        "smart => {a, c}\n",
        "young => {b, c}\n",
        "\"\"\""
      ],
      "metadata": {
        "id": "HmPpwqd1EBy7"
      },
      "execution_count": 37,
      "outputs": []
    },
    {
      "cell_type": "code",
      "source": [
        "# モデルS_1におけるモデル検査\n",
        "val = Valuation.fromstring(S_1)\n",
        "dom = val.domain\n",
        "m = nltk.Model(dom, val)\n",
        "g = nltk.sem.Assignment(dom)\n",
        "m.evaluate('smart(hanako)&young(hanako)', g)"
      ],
      "metadata": {
        "colab": {
          "base_uri": "https://localhost:8080/"
        },
        "id": "lACPULvcEtiv",
        "outputId": "4b5158c8-54ed-48f0-a1e9-c8a7dba78992"
      },
      "execution_count": 38,
      "outputs": [
        {
          "output_type": "execute_result",
          "data": {
            "text/plain": [
              "True"
            ]
          },
          "metadata": {},
          "execution_count": 38
        }
      ]
    },
    {
      "cell_type": "code",
      "source": [
        "# モデルS_2におけるモデル検査\n",
        "val = Valuation.fromstring(S_2)\n",
        "dom = val.domain\n",
        "m = nltk.Model(dom, val)\n",
        "g = nltk.sem.Assignment(dom)\n",
        "m.evaluate('smart(hanako)&young(hanako)', g)"
      ],
      "metadata": {
        "colab": {
          "base_uri": "https://localhost:8080/"
        },
        "id": "CPAbuqAJL98H",
        "outputId": "bccea488-e950-40f7-c0b7-fcca8ce422df"
      },
      "execution_count": 39,
      "outputs": [
        {
          "output_type": "execute_result",
          "data": {
            "text/plain": [
              "False"
            ]
          },
          "metadata": {},
          "execution_count": 39
        }
      ]
    },
    {
      "cell_type": "markdown",
      "source": [
        "次に、7.1節で紹介した文間の含意関係、矛盾関係の証明をNLTKの導出原理(resolution)に基づく定理証明で示してみよう。"
      ],
      "metadata": {
        "id": "C8mcZ9tIW7Cl"
      }
    },
    {
      "cell_type": "code",
      "source": [
        "# Hanako is young and smartとHanako is smartの含意関係の証明\n",
        "read_expr = nltk.sem.Expression.fromstring\n",
        "lf1 = read_expr('smart(hanako)&young(hanako)', type_check=True)\n",
        "lf2 = read_expr('smart(hanako)', type_check=True)\n",
        "# lf1からlf2を導く証明を導出する\n",
        "ResolutionProver().prove(lf2, [lf1], verbose=True)"
      ],
      "metadata": {
        "colab": {
          "base_uri": "https://localhost:8080/"
        },
        "id": "3sDOljt8GCHF",
        "outputId": "187ea0c7-b66a-4303-8fa4-fb3245f5bb3c"
      },
      "execution_count": 40,
      "outputs": [
        {
          "output_type": "stream",
          "name": "stdout",
          "text": [
            "[1] {-smart(hanako)}  A \n",
            "[2] {smart(hanako)}   A \n",
            "[3] {young(hanako)}   A \n",
            "[4] {}                (1, 2) \n",
            "\n"
          ]
        },
        {
          "output_type": "execute_result",
          "data": {
            "text/plain": [
              "True"
            ]
          },
          "metadata": {},
          "execution_count": 40
        }
      ]
    },
    {
      "cell_type": "code",
      "source": [
        "# There is no womanとA woman is dancingの矛盾関係の証明\n",
        "lf5 = read_expr('-exists x.(woman(x))', type_check=True)\n",
        "lf6 = read_expr('exists x.(woman(x)&dance(x))', type_check=True)\n",
        "# 矛盾関係の場合はlf5とlf6からFalseを導く証明を導出する\n",
        "ResolutionProver().prove(False, [lf5,lf6], verbose=True)"
      ],
      "metadata": {
        "colab": {
          "base_uri": "https://localhost:8080/"
        },
        "id": "YMcleiYePhix",
        "outputId": "92c1c8de-7887-4265-bfc1-91d8ebe53d68"
      },
      "execution_count": 41,
      "outputs": [
        {
          "output_type": "stream",
          "name": "stdout",
          "text": [
            "[1] {-woman(z35)}  A \n",
            "[2] {woman(z37)}   A \n",
            "[3] {dance(z38)}   A \n",
            "[4] {}             (1, 2) \n",
            "\n"
          ]
        },
        {
          "output_type": "execute_result",
          "data": {
            "text/plain": [
              "True"
            ]
          },
          "metadata": {},
          "execution_count": 41
        }
      ]
    },
    {
      "cell_type": "code",
      "source": [
        "# Some dogs ranとSome animals ranの含意関係の証明\n",
        "lf7 = read_expr('exists x.(dog(x)&run(x))', type_check=True)\n",
        "axiom = read_expr('forall x.(dog(x) -> animal(x))', type_check=True) #dogに属する個体はすべてanimalにも属するという公理の補完が必要\n",
        "lf8 = read_expr('exists x.(animal(x)&run(x))', type_check=True)\n",
        "ResolutionProver().prove(lf8, [lf7,ax], verbose=True)"
      ],
      "metadata": {
        "colab": {
          "base_uri": "https://localhost:8080/"
        },
        "id": "Yd2lhzzHRx4c",
        "outputId": "35aa2a2b-ffc0-436c-c3ed-739883cba94e"
      },
      "execution_count": 43,
      "outputs": [
        {
          "output_type": "stream",
          "name": "stdout",
          "text": [
            "[ 1] {-animal(z47), -run(z47)}  A \n",
            "[ 2] {dog(z49)}                 A \n",
            "[ 3] {run(z50)}                 A \n",
            "[ 4] {-dog(z52), animal(z52)}   A \n",
            "[ 5] {-animal(z50)}             (1, 3) \n",
            "[ 6] {-dog(z52), -run(z52)}     (1, 4) \n",
            "[ 7] {animal(z52)}              (2, 4) \n",
            "[ 8] {-run(z52)}                (1, 7) \n",
            "[ 9] {-run(z52)}                (2, 6) \n",
            "[10] {-dog(z52)}                (3, 6) \n",
            "[11] {}                         (2, 10) \n",
            "\n"
          ]
        },
        {
          "output_type": "execute_result",
          "data": {
            "text/plain": [
              "True"
            ]
          },
          "metadata": {},
          "execution_count": 43
        }
      ]
    },
    {
      "cell_type": "markdown",
      "source": [
        "Hanako is smartの意味表示（論理式）であるsmart(hanako)の項と述語の型を確認してみよう。"
      ],
      "metadata": {
        "id": "nNcr9gIbYkpx"
      }
    },
    {
      "cell_type": "code",
      "source": [
        "# hanakoの型\n",
        "print(lf2.argument.type)\n",
        "\n",
        "# smartの型\n",
        "print(lf2.function.type)"
      ],
      "metadata": {
        "colab": {
          "base_uri": "https://localhost:8080/"
        },
        "id": "DcSmIPIFKHJS",
        "outputId": "e19afd9e-70e7-4dec-9e9e-6da16b5e88c1"
      },
      "execution_count": 44,
      "outputs": [
        {
          "output_type": "stream",
          "name": "stdout",
          "text": [
            "e\n",
            "<e,?>\n"
          ]
        }
      ]
    },
    {
      "cell_type": "markdown",
      "source": [
        "いま、tallの型は何も指定していないので、他の型になる可能性を考慮して、型チェッカーでは<e, ?>になっている。tallの型を明示的に語彙項目で定義して、もう一度型を確認しよう。"
      ],
      "metadata": {
        "id": "hULG0SFmY4yR"
      }
    },
    {
      "cell_type": "code",
      "source": [
        "sig = {'smart': '<e, t>'}\n",
        "lf2.typecheck(sig)\n",
        "# smartの型\n",
        "print(lf2.function.type)"
      ],
      "metadata": {
        "colab": {
          "base_uri": "https://localhost:8080/"
        },
        "id": "G9RuQ8upKxeC",
        "outputId": "1f829285-70a0-43c3-f1c0-f95cb64c9a2b"
      },
      "execution_count": 45,
      "outputs": [
        {
          "output_type": "stream",
          "name": "stdout",
          "text": [
            "<e,t>\n"
          ]
        }
      ]
    },
    {
      "cell_type": "markdown",
      "source": [
        "語彙項目を指定して論理式を読みこみ（type_check=Trueで型チェッカーがONになっている）型を確認し、モデル検査や定理証明を行ってみよう。"
      ],
      "metadata": {
        "id": "hpmjVLHabGM9"
      }
    },
    {
      "cell_type": "code",
      "source": [
        "# 語彙項目の指定\n",
        "sig = {'john': 'e', 'mary': 'e', 'tom': 'e', 'smart': '<e,t>', 'run': '<e,t>', 'like': '<e,<e,t>>'}\n",
        "\n",
        "# 論理式の例\n",
        "examples = [r'run(john)', # John runs\n",
        "             r'\\x.run(x)', # run\n",
        "             r'john', # John\n",
        "             r'\\x.smart(x)', # smart\n",
        "             r'\\x.like(john,x)(mary)', # 関数適用前John likes Mary\n",
        "             r'like(john, mary)'] # 関数適用後John likes Mary\n",
        "\n",
        "# 論理式の読み込み\n",
        "examples = [read_expr(e, type_check=True) for e in examples]\n",
        "\n",
        "# 型の確認\n",
        "for example in examples:\n",
        "    example.typecheck(sig)\n",
        "    print(example.type)"
      ],
      "metadata": {
        "id": "_nV2hpuvaQ4P",
        "colab": {
          "base_uri": "https://localhost:8080/"
        },
        "outputId": "653d5273-d7e4-4e03-be02-d2535602ca2a"
      },
      "execution_count": 46,
      "outputs": [
        {
          "output_type": "stream",
          "name": "stdout",
          "text": [
            "t\n",
            "<e,t>\n",
            "e\n",
            "<e,t>\n",
            "t\n",
            "t\n"
          ]
        }
      ]
    },
    {
      "cell_type": "code",
      "source": [
        "# モデルの読み込み\n",
        "S_1 = \"\"\"\n",
        "john => a\n",
        "mary => b\n",
        "tom => c\n",
        "smart => {a}\n",
        "run => {a, b}\n",
        "like => {(a,b),(c,b)}\n",
        "\"\"\"\n",
        "val = Valuation.fromstring(S_1)\n",
        "dom = val.domain\n",
        "m = nltk.Model(dom, val)\n",
        "g = nltk.sem.Assignment(dom)\n",
        "\n",
        "\n",
        "f1 = 'smart(john)' # John is smart\n",
        "f2 = 'smart(mary)' # Mary is smart\n",
        "lf1 = read_expr(f1, type_check=True)\n",
        "lf2 = read_expr(f2, type_check=True)\n",
        "\n",
        "# モデル検査\n",
        "print(m.evaluate(f1, g)) # John is smartはS_1のもとで真\n",
        "print(m.evaluate(f2, g)) # Mary is smartはS_1のもとで偽\n",
        "\n",
        "# John is smartとMary is smart間の非含意の関係を定理証明\n",
        "ResolutionProver().prove(lf2, [lf1], verbose=True)"
      ],
      "metadata": {
        "colab": {
          "base_uri": "https://localhost:8080/"
        },
        "id": "XXooUpQTh89O",
        "outputId": "a93c7e62-8c71-42cf-d877-d077ff7f5083"
      },
      "execution_count": 47,
      "outputs": [
        {
          "output_type": "stream",
          "name": "stdout",
          "text": [
            "True\n",
            "False\n",
            "[1] {-smart(mary)}  A \n",
            "[2] {smart(john)}   A \n",
            "\n"
          ]
        },
        {
          "output_type": "execute_result",
          "data": {
            "text/plain": [
              "False"
            ]
          },
          "metadata": {},
          "execution_count": 47
        }
      ]
    },
    {
      "cell_type": "markdown",
      "source": [
        "ちなみに、.simplify()はラムダ計算のβ簡約を行う関数である。"
      ],
      "metadata": {
        "id": "3WsL_mOQj1uH"
      }
    },
    {
      "cell_type": "code",
      "source": [
        "x1 = read_expr(r'\\x.\\y.like(x,y)(john)(mary)').simplify()\n",
        "x2 = read_expr(r'like(john,mary)')\n",
        "print(x1 == x2)\n",
        "\n",
        "x1 = read_expr(r'\\x.\\y.like(x,y)(mary)(john)').simplify()\n",
        "x2 = read_expr(r'like(john,mary)')\n",
        "print(x1 == x2)"
      ],
      "metadata": {
        "colab": {
          "base_uri": "https://localhost:8080/"
        },
        "id": "Dk0hXF-Xih0b",
        "outputId": "1ab8a3f3-dc5e-4376-dacc-7373f915e841"
      },
      "execution_count": 48,
      "outputs": [
        {
          "output_type": "stream",
          "name": "stdout",
          "text": [
            "True\n",
            "False\n"
          ]
        }
      ]
    }
  ]
}