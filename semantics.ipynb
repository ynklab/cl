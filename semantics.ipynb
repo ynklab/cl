{
  "nbformat": 4,
  "nbformat_minor": 0,
  "metadata": {
    "colab": {
      "provenance": [],
      "include_colab_link": true
    },
    "kernelspec": {
      "name": "python3",
      "display_name": "Python 3"
    },
    "language_info": {
      "name": "python"
    }
  },
  "cells": [
    {
      "cell_type": "markdown",
      "metadata": {
        "id": "view-in-github",
        "colab_type": "text"
      },
      "source": [
        "<a href=\"https://colab.research.google.com/github/ynklab/cl/blob/main/semantics.ipynb\" target=\"_parent\"><img src=\"https://colab.research.google.com/assets/colab-badge.svg\" alt=\"Open In Colab\"/></a>"
      ]
    },
    {
      "cell_type": "markdown",
      "source": [
        "モデルと真理条件的意味論\n",
        "\n",
        "NLTK: https://www.nltk.org/ は、Pythonプログラミング言語で書かれた英語の自然言語処理のためのライブラリであり、NLTKを使うことで\n",
        "モデル検査や定理証明を簡単に記述できる。"
      ],
      "metadata": {
        "id": "m0W6C05yIhs4"
      }
    },
    {
      "cell_type": "code",
      "execution_count": 1,
      "metadata": {
        "id": "GsHMWoghD9MU"
      },
      "outputs": [],
      "source": [
        "import nltk\n",
        "from nltk import *\n",
        "from nltk.sem import logic\n",
        "from nltk.sem import Valuation, Model\n",
        "from nltk.sem.logic import LogicParser"
      ]
    },
    {
      "cell_type": "markdown",
      "source": [
        "モデルを読み込み、命題論理の意味表示の真理値をモデル検査で確かめよう。"
      ],
      "metadata": {
        "id": "CAoE-SacJrsa"
      }
    },
    {
      "cell_type": "code",
      "source": [
        "v1 = \"\"\"\n",
        "hanako => a\n",
        "jiro => b\n",
        "saburo => c\n",
        "smart => {a, b}\n",
        "young => {a, c}\n",
        "\"\"\"\n",
        "\n",
        "v2 = \"\"\"\n",
        "hanako => a\n",
        "jiro => b\n",
        "saburo => c\n",
        "smart => {a, b}\n",
        "young => {b, c}\n",
        "\"\"\""
      ],
      "metadata": {
        "id": "HmPpwqd1EBy7"
      },
      "execution_count": 2,
      "outputs": []
    },
    {
      "cell_type": "code",
      "source": [
        "val = Valuation.fromstring(v1)\n",
        "dom = val.domain\n",
        "m = nltk.Model(dom, val)\n",
        "g = nltk.sem.Assignment(dom)\n",
        "m.evaluate('smart(hanako)&young(hanako)', g)"
      ],
      "metadata": {
        "colab": {
          "base_uri": "https://localhost:8080/"
        },
        "id": "lACPULvcEtiv",
        "outputId": "8ee51792-80dc-44f6-d2da-acd51761f949"
      },
      "execution_count": 3,
      "outputs": [
        {
          "output_type": "execute_result",
          "data": {
            "text/plain": [
              "True"
            ]
          },
          "metadata": {},
          "execution_count": 3
        }
      ]
    },
    {
      "cell_type": "markdown",
      "source": [
        "含意関係の証明を導出原理(resolution)に基づく自動推論で示してみよう。"
      ],
      "metadata": {
        "id": "C8mcZ9tIW7Cl"
      }
    },
    {
      "cell_type": "code",
      "source": [
        "read_expr = nltk.sem.Expression.fromstring\n",
        "lf1 = read_expr('smart(hanako)&young(hanako)', type_check=True)\n",
        "lf2 = read_expr('smart(hanako)', type_check=True)\n",
        "ResolutionProver().prove(lf2, [lf1], verbose=True)"
      ],
      "metadata": {
        "colab": {
          "base_uri": "https://localhost:8080/"
        },
        "id": "3sDOljt8GCHF",
        "outputId": "4f5fab5b-432d-4371-85db-e02d3c2f4949"
      },
      "execution_count": 4,
      "outputs": [
        {
          "output_type": "stream",
          "name": "stdout",
          "text": [
            "[1] {-smart(hanako)}  A \n",
            "[2] {smart(hanako)}   A \n",
            "[3] {young(hanako)}   A \n",
            "[4] {}                (1, 2) \n",
            "\n"
          ]
        },
        {
          "output_type": "execute_result",
          "data": {
            "text/plain": [
              "True"
            ]
          },
          "metadata": {},
          "execution_count": 4
        }
      ]
    },
    {
      "cell_type": "markdown",
      "source": [
        "論理式の項と述語の型を確認してみよう。（type_check=Trueで型チェッカーがONになっている。）"
      ],
      "metadata": {
        "id": "nNcr9gIbYkpx"
      }
    },
    {
      "cell_type": "code",
      "source": [
        "#hanakoの型\n",
        "print(lf2.argument.type)\n",
        "\n",
        "#smartの型\n",
        "print(lf2.function.type)"
      ],
      "metadata": {
        "colab": {
          "base_uri": "https://localhost:8080/"
        },
        "id": "DcSmIPIFKHJS",
        "outputId": "8722a70a-62ba-48d3-be1f-4a9a2eabedb9"
      },
      "execution_count": 5,
      "outputs": [
        {
          "output_type": "stream",
          "name": "stdout",
          "text": [
            "e\n",
            "<e,?>\n"
          ]
        }
      ]
    },
    {
      "cell_type": "markdown",
      "source": [
        "いま、tallの型は何も指定していないので、他の型になる可能性を考慮して、型チェッカーでは<e, ?>になっている。tallの型を明示的にシグネチャ（語彙項目）で定義して、もう一度型を確認しよう。"
      ],
      "metadata": {
        "id": "hULG0SFmY4yR"
      }
    },
    {
      "cell_type": "code",
      "source": [
        "sig = {'smart': '<e, t>'}\n",
        "lf2.typecheck(sig)\n",
        "#tallの型\n",
        "print(lf2.function.type)"
      ],
      "metadata": {
        "colab": {
          "base_uri": "https://localhost:8080/"
        },
        "id": "G9RuQ8upKxeC",
        "outputId": "02c6f77a-6d61-420c-a888-2c2cf7f81cad"
      },
      "execution_count": 6,
      "outputs": [
        {
          "output_type": "stream",
          "name": "stdout",
          "text": [
            "<e,t>\n"
          ]
        }
      ]
    },
    {
      "cell_type": "markdown",
      "source": [
        "意味辞書をシグネチャに定義して、型を確認しモデル検査や自動推論を行ってみよう。"
      ],
      "metadata": {
        "id": "hpmjVLHabGM9"
      }
    },
    {
      "cell_type": "code",
      "source": [
        "sig = {'john': 'e', 'mary': 'e', 'tom': 'e', 'student': '<e,t>', 'run': '<e,t>', 'like': '<e,<e,t>>'}\n",
        "examples = [r'run(john)',\n",
        "             r'run(x)',\n",
        "             r'john',\n",
        "             r'\\x.student(x)',\n",
        "             r'\\x.like(john,x)(mary)',\n",
        "             r'like(john, mary)']\n",
        "examples = [read_expr(e, type_check=True) for e in examples]\n",
        "example = examples[4]\n",
        "example.typecheck(sig)\n",
        "print(example.type)"
      ],
      "metadata": {
        "id": "_nV2hpuvaQ4P",
        "colab": {
          "base_uri": "https://localhost:8080/"
        },
        "outputId": "5dbf0183-2d7b-44f4-cd37-db1f1597065b"
      },
      "execution_count": 7,
      "outputs": [
        {
          "output_type": "stream",
          "name": "stdout",
          "text": [
            "t\n"
          ]
        }
      ]
    },
    {
      "cell_type": "code",
      "source": [
        "v1 = \"\"\"\n",
        "john => a\n",
        "mary => b\n",
        "tom => c\n",
        "student => {a}\n",
        "run => {a, b}\n",
        "like => {(a,b),(c,b)}\n",
        "\"\"\"\n",
        "val = Valuation.fromstring(v1)\n",
        "dom = val.domain\n",
        "m = nltk.Model(dom, val)\n",
        "g = nltk.sem.Assignment(dom)\n",
        "\n",
        "f1 = 'student(john)'\n",
        "f2 = 'student(mary)'\n",
        "lf1 = read_expr(f1, type_check=True)\n",
        "lf2 = read_expr(f2, type_check=True)\n",
        "\n",
        "#model checking\n",
        "print(m.evaluate(f1, g))\n",
        "print(m.evaluate(f2, g))\n",
        "\n",
        "#theorem proving\n",
        "ResolutionProver().prove(lf2, [lf1], verbose=True)"
      ],
      "metadata": {
        "colab": {
          "base_uri": "https://localhost:8080/"
        },
        "id": "XXooUpQTh89O",
        "outputId": "b42179b5-5544-4dc3-c4ae-9be4d74b840d"
      },
      "execution_count": 8,
      "outputs": [
        {
          "output_type": "stream",
          "name": "stdout",
          "text": [
            "True\n",
            "False\n",
            "[1] {-student(mary)}  A \n",
            "[2] {student(john)}   A \n",
            "\n"
          ]
        },
        {
          "output_type": "execute_result",
          "data": {
            "text/plain": [
              "False"
            ]
          },
          "metadata": {},
          "execution_count": 8
        }
      ]
    },
    {
      "cell_type": "markdown",
      "source": [
        ".simplify()はラムダ計算のβ簡約を行う関数である。"
      ],
      "metadata": {
        "id": "3WsL_mOQj1uH"
      }
    },
    {
      "cell_type": "code",
      "source": [
        "x1 = read_expr(r'\\x.\\y.like(x,y)(john)(mary)').simplify()\n",
        "x2 = read_expr(r'like(john,mary)')\n",
        "print(x1 == x2)\n",
        "\n",
        "x1 = read_expr(r'\\x.\\y.like(x,y)(mary)(john)').simplify()\n",
        "x2 = read_expr(r'like(john,mary)')\n",
        "print(x1 == x2)"
      ],
      "metadata": {
        "colab": {
          "base_uri": "https://localhost:8080/"
        },
        "id": "Dk0hXF-Xih0b",
        "outputId": "159de133-2612-46cf-c3a8-b84eeb223bfd"
      },
      "execution_count": 9,
      "outputs": [
        {
          "output_type": "stream",
          "name": "stdout",
          "text": [
            "True\n",
            "False\n"
          ]
        }
      ]
    }
  ]
}